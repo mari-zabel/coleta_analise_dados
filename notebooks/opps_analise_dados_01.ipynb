{
  "nbformat": 4,
  "nbformat_minor": 0,
  "metadata": {
    "colab": {
      "provenance": [],
      "toc_visible": true,
      "authorship_tag": "ABX9TyMywE2cK/21tR2be0lVdqz/",
      "include_colab_link": true
    },
    "kernelspec": {
      "name": "python3",
      "display_name": "Python 3"
    },
    "language_info": {
      "name": "python"
    }
  },
  "cells": [
    {
      "cell_type": "markdown",
      "metadata": {
        "id": "view-in-github",
        "colab_type": "text"
      },
      "source": [
        "<a href=\"https://colab.research.google.com/github/mari-zabel/coleta_analise_dados/blob/main/notebooks/opps_analise_dados_01.ipynb\" target=\"_parent\"><img src=\"https://colab.research.google.com/assets/colab-badge.svg\" alt=\"Open In Colab\"/></a>"
      ]
    },
    {
      "cell_type": "markdown",
      "source": [
        "# Análise e visualização de dados"
      ],
      "metadata": {
        "id": "ojK3KxDMLggU"
      }
    },
    {
      "cell_type": "code",
      "execution_count": 1,
      "metadata": {
        "colab": {
          "base_uri": "https://localhost:8080/"
        },
        "id": "ikGkt8tOKxfh",
        "outputId": "283464f2-b60e-4a2c-bd22-d8f8a73b2a97"
      },
      "outputs": [
        {
          "output_type": "stream",
          "name": "stdout",
          "text": [
            "olá maria izabel\n"
          ]
        }
      ],
      "source": [
        "print(\"olá maria izabel\")"
      ]
    }
  ]
}